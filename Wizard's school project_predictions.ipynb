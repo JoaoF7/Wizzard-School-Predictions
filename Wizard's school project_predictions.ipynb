{
 "cells": [
  {
   "cell_type": "code",
   "execution_count": 8,
   "id": "eb8be358",
   "metadata": {},
   "outputs": [],
   "source": [
    "#pandas\n",
    "import pandas as pd\n",
    "\n",
    "#Scaller (Robust)\n",
    "from sklearn.preprocessing import RobustScaler\n",
    "\n",
    "#Choosen algorithm\n",
    "from sklearn.ensemble import AdaBoostClassifier\n",
    "from sklearn.linear_model import LogisticRegression\n",
    "\n",
    "#inputing\n",
    "from sklearn.impute import KNNImputer\n",
    "\n",
    "#dataset division\n",
    "from sklearn.model_selection import train_test_split\n",
    "\n",
    "#Ignore warnings\n",
    "import warnings\n",
    "warnings.filterwarnings('ignore')"
   ]
  },
  {
   "cell_type": "markdown",
   "id": "6a72eee0",
   "metadata": {},
   "source": [
    "# Import data"
   ]
  },
  {
   "cell_type": "code",
   "execution_count": 10,
   "id": "419ac1e1",
   "metadata": {},
   "outputs": [],
   "source": [
    "train = pd.read_csv(\"Data_after_feature_selection/train_data_scalled.csv\", index_col = 0)\n",
    "X_train = train.drop(columns = \"Admitted in School\")\n",
    "y_train = train[[\"Admitted in School\"]]"
   ]
  },
  {
   "cell_type": "code",
   "execution_count": 11,
   "id": "3adc0461",
   "metadata": {},
   "outputs": [],
   "source": [
    "test = pd.read_csv(\"Data_after_feature_selection/test_data_scalled.csv\", index_col = 0)"
   ]
  },
  {
   "cell_type": "code",
   "execution_count": 12,
   "id": "753a9534",
   "metadata": {},
   "outputs": [
    {
     "data": {
      "text/html": [
       "<div>\n",
       "<style scoped>\n",
       "    .dataframe tbody tr th:only-of-type {\n",
       "        vertical-align: middle;\n",
       "    }\n",
       "\n",
       "    .dataframe tbody tr th {\n",
       "        vertical-align: top;\n",
       "    }\n",
       "\n",
       "    .dataframe thead th {\n",
       "        text-align: right;\n",
       "    }\n",
       "</style>\n",
       "<table border=\"1\" class=\"dataframe\">\n",
       "  <thead>\n",
       "    <tr style=\"text-align: right;\">\n",
       "      <th></th>\n",
       "      <th>Sorcery School</th>\n",
       "      <th>Magi Academy</th>\n",
       "      <th>male</th>\n",
       "      <th>Experience Level</th>\n",
       "      <th>Student Siblings</th>\n",
       "      <th>Financial Background</th>\n",
       "      <th>Eldertree Enclave</th>\n",
       "      <th>Student Social Influence</th>\n",
       "    </tr>\n",
       "    <tr>\n",
       "      <th>Student ID</th>\n",
       "      <th></th>\n",
       "      <th></th>\n",
       "      <th></th>\n",
       "      <th></th>\n",
       "      <th></th>\n",
       "      <th></th>\n",
       "      <th></th>\n",
       "      <th></th>\n",
       "    </tr>\n",
       "  </thead>\n",
       "  <tbody>\n",
       "    <tr>\n",
       "      <th>836</th>\n",
       "      <td>-1.0</td>\n",
       "      <td>1.0</td>\n",
       "      <td>-1.0</td>\n",
       "      <td>-0.030410</td>\n",
       "      <td>-0.75</td>\n",
       "      <td>-0.675372</td>\n",
       "      <td>1.0</td>\n",
       "      <td>0.304348</td>\n",
       "    </tr>\n",
       "    <tr>\n",
       "      <th>323</th>\n",
       "      <td>-1.0</td>\n",
       "      <td>-1.0</td>\n",
       "      <td>-1.0</td>\n",
       "      <td>-0.256597</td>\n",
       "      <td>-1.00</td>\n",
       "      <td>-0.951789</td>\n",
       "      <td>-1.0</td>\n",
       "      <td>-1.000000</td>\n",
       "    </tr>\n",
       "    <tr>\n",
       "      <th>117</th>\n",
       "      <td>1.0</td>\n",
       "      <td>-1.0</td>\n",
       "      <td>1.0</td>\n",
       "      <td>0.761247</td>\n",
       "      <td>-1.00</td>\n",
       "      <td>-0.969746</td>\n",
       "      <td>-1.0</td>\n",
       "      <td>-0.304348</td>\n",
       "    </tr>\n",
       "    <tr>\n",
       "      <th>444</th>\n",
       "      <td>-1.0</td>\n",
       "      <td>-1.0</td>\n",
       "      <td>-1.0</td>\n",
       "      <td>-0.306861</td>\n",
       "      <td>-1.00</td>\n",
       "      <td>-0.949251</td>\n",
       "      <td>-1.0</td>\n",
       "      <td>-0.304348</td>\n",
       "    </tr>\n",
       "    <tr>\n",
       "      <th>619</th>\n",
       "      <td>-1.0</td>\n",
       "      <td>-1.0</td>\n",
       "      <td>-1.0</td>\n",
       "      <td>-0.910028</td>\n",
       "      <td>-0.50</td>\n",
       "      <td>-0.847754</td>\n",
       "      <td>-1.0</td>\n",
       "      <td>-0.391304</td>\n",
       "    </tr>\n",
       "  </tbody>\n",
       "</table>\n",
       "</div>"
      ],
      "text/plain": [
       "            Sorcery School  Magi Academy  male  Experience Level  \\\n",
       "Student ID                                                         \n",
       "836                   -1.0           1.0  -1.0         -0.030410   \n",
       "323                   -1.0          -1.0  -1.0         -0.256597   \n",
       "117                    1.0          -1.0   1.0          0.761247   \n",
       "444                   -1.0          -1.0  -1.0         -0.306861   \n",
       "619                   -1.0          -1.0  -1.0         -0.910028   \n",
       "\n",
       "            Student Siblings  Financial Background  Eldertree Enclave  \\\n",
       "Student ID                                                              \n",
       "836                    -0.75             -0.675372                1.0   \n",
       "323                    -1.00             -0.951789               -1.0   \n",
       "117                    -1.00             -0.969746               -1.0   \n",
       "444                    -1.00             -0.949251               -1.0   \n",
       "619                    -0.50             -0.847754               -1.0   \n",
       "\n",
       "            Student Social Influence  \n",
       "Student ID                            \n",
       "836                         0.304348  \n",
       "323                        -1.000000  \n",
       "117                        -0.304348  \n",
       "444                        -0.304348  \n",
       "619                        -0.391304  "
      ]
     },
     "execution_count": 12,
     "metadata": {},
     "output_type": "execute_result"
    }
   ],
   "source": [
    "test.head()"
   ]
  },
  {
   "cell_type": "markdown",
   "id": "3ad9825d",
   "metadata": {},
   "source": [
    "# Making the predictions"
   ]
  },
  {
   "cell_type": "code",
   "execution_count": 13,
   "id": "6636ce9c",
   "metadata": {},
   "outputs": [],
   "source": [
    "abc = AdaBoostClassifier(algorithm = 'SAMME', base_estimator = LogisticRegression(), learning_rate = 0.1, n_estimators = 100)\n",
    "abc = abc.fit(X_train,y_train)"
   ]
  },
  {
   "cell_type": "code",
   "execution_count": 15,
   "id": "57082e81",
   "metadata": {},
   "outputs": [],
   "source": [
    "y_predict = abc.predict(test)"
   ]
  },
  {
   "cell_type": "code",
   "execution_count": 16,
   "id": "24769c9c",
   "metadata": {},
   "outputs": [
    {
     "data": {
      "text/html": [
       "<div>\n",
       "<style scoped>\n",
       "    .dataframe tbody tr th:only-of-type {\n",
       "        vertical-align: middle;\n",
       "    }\n",
       "\n",
       "    .dataframe tbody tr th {\n",
       "        vertical-align: top;\n",
       "    }\n",
       "\n",
       "    .dataframe thead th {\n",
       "        text-align: right;\n",
       "    }\n",
       "</style>\n",
       "<table border=\"1\" class=\"dataframe\">\n",
       "  <thead>\n",
       "    <tr style=\"text-align: right;\">\n",
       "      <th></th>\n",
       "      <th>Prediction</th>\n",
       "    </tr>\n",
       "    <tr>\n",
       "      <th>Student ID</th>\n",
       "      <th></th>\n",
       "    </tr>\n",
       "  </thead>\n",
       "  <tbody>\n",
       "    <tr>\n",
       "      <th>836</th>\n",
       "      <td>1.0</td>\n",
       "    </tr>\n",
       "    <tr>\n",
       "      <th>323</th>\n",
       "      <td>1.0</td>\n",
       "    </tr>\n",
       "    <tr>\n",
       "      <th>117</th>\n",
       "      <td>0.0</td>\n",
       "    </tr>\n",
       "    <tr>\n",
       "      <th>444</th>\n",
       "      <td>1.0</td>\n",
       "    </tr>\n",
       "    <tr>\n",
       "      <th>619</th>\n",
       "      <td>1.0</td>\n",
       "    </tr>\n",
       "    <tr>\n",
       "      <th>...</th>\n",
       "      <td>...</td>\n",
       "    </tr>\n",
       "    <tr>\n",
       "      <th>21</th>\n",
       "      <td>0.0</td>\n",
       "    </tr>\n",
       "    <tr>\n",
       "      <th>366</th>\n",
       "      <td>0.0</td>\n",
       "    </tr>\n",
       "    <tr>\n",
       "      <th>890</th>\n",
       "      <td>1.0</td>\n",
       "    </tr>\n",
       "    <tr>\n",
       "      <th>749</th>\n",
       "      <td>1.0</td>\n",
       "    </tr>\n",
       "    <tr>\n",
       "      <th>653</th>\n",
       "      <td>0.0</td>\n",
       "    </tr>\n",
       "  </tbody>\n",
       "</table>\n",
       "<p>176 rows × 1 columns</p>\n",
       "</div>"
      ],
      "text/plain": [
       "            Prediction\n",
       "Student ID            \n",
       "836                1.0\n",
       "323                1.0\n",
       "117                0.0\n",
       "444                1.0\n",
       "619                1.0\n",
       "...                ...\n",
       "21                 0.0\n",
       "366                0.0\n",
       "890                1.0\n",
       "749                1.0\n",
       "653                0.0\n",
       "\n",
       "[176 rows x 1 columns]"
      ]
     },
     "execution_count": 16,
     "metadata": {},
     "output_type": "execute_result"
    }
   ],
   "source": [
    "test_pred = pd.DataFrame(y_predict, index = test.index, columns = [\"Prediction\"])\n",
    "test_pred"
   ]
  },
  {
   "cell_type": "markdown",
   "id": "30dd2c6b",
   "metadata": {},
   "source": [
    "# Store the results in a csv file"
   ]
  },
  {
   "cell_type": "code",
   "execution_count": 19,
   "id": "eea74aa2",
   "metadata": {},
   "outputs": [],
   "source": [
    "test_pred.to_csv(\"Group15_wizards school project.csv\")"
   ]
  },
  {
   "cell_type": "code",
   "execution_count": null,
   "id": "7a1a9dd5",
   "metadata": {},
   "outputs": [],
   "source": []
  }
 ],
 "metadata": {
  "kernelspec": {
   "display_name": "Python 3 (ipykernel)",
   "language": "python",
   "name": "python3"
  },
  "language_info": {
   "codemirror_mode": {
    "name": "ipython",
    "version": 3
   },
   "file_extension": ".py",
   "mimetype": "text/x-python",
   "name": "python",
   "nbconvert_exporter": "python",
   "pygments_lexer": "ipython3",
   "version": "3.9.18"
  }
 },
 "nbformat": 4,
 "nbformat_minor": 5
}
